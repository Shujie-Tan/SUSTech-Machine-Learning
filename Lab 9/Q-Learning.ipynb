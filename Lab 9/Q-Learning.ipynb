{
 "cells": [
  {
   "cell_type": "markdown",
   "metadata": {
    "collapsed": true
   },
   "source": [
    "#  Lab Reinforcement Learning\n",
    "## Exercise 2: Q-Learning\n",
    "谭树杰 11849060"
   ]
  },
  {
   "cell_type": "code",
   "execution_count": 2,
   "metadata": {},
   "outputs": [],
   "source": [
    "import numpy as np\n",
    "import copy\n",
    "import gym\n",
    "import random"
   ]
  },
  {
   "cell_type": "code",
   "execution_count": 7,
   "metadata": {},
   "outputs": [
    {
     "name": "stderr",
     "output_type": "stream",
     "text": [
      "/home/shu/PycharmProjects/RL/venv/lib/python3.6/site-packages/gym/envs/registration.py:14: PkgResourcesDeprecationWarning: Parameters to load are deprecated.  Call .resolve and .require separately.\n",
      "  result = entry_point.load(False)\n"
     ]
    }
   ],
   "source": [
    "env = gym.make(\"FrozenLake-v0\")"
   ]
  },
  {
   "cell_type": "code",
   "execution_count": 11,
   "metadata": {},
   "outputs": [],
   "source": [
    "action_size = env.action_space.n\n",
    "state_size = env.observation_space.n"
   ]
  },
  {
   "cell_type": "code",
   "execution_count": 12,
   "metadata": {},
   "outputs": [],
   "source": [
    "total_episodes = 15000        \n",
    "learning_rate = 0.8           \n",
    "max_steps = 99                \n",
    "gamma = 0.95                  \n",
    "\n",
    "epsilon = 1.0                 \n",
    "max_epsilon = 1.0             \n",
    "min_epsilon = 0.01            \n",
    "decay_rate = 0.005  "
   ]
  },
  {
   "cell_type": "markdown",
   "metadata": {},
   "source": [
    "### Training"
   ]
  },
  {
   "cell_type": "code",
   "execution_count": 20,
   "metadata": {},
   "outputs": [],
   "source": [
    "def train_qtable(env, total_episodes, max_steps, learning_rate, gamma,epsilon,,min_epsilon,max_epsilon,decay_rate):\n",
    "    rewards = []\n",
    "    qtable = np.zeros((state_size, action_size))\n",
    "    for episode in range(total_episodes):\n",
    "\n",
    "        state = env.reset()\n",
    "        step = 0\n",
    "        done = False\n",
    "        total_rewards = 0\n",
    "\n",
    "        for step in range(max_steps):\n",
    "            prob = random.uniform(0, 1)\n",
    "            if prob > epsilon:\n",
    "                action = np.argmax(qtable[state, :]) # greedy\n",
    "            else:\n",
    "                action = env.action_space.sample() # explore\n",
    "            new_state, reward, done, info = env.step(action)\n",
    "            qtable[state, action] = qtable[state, action] + learning_rate * (\n",
    "                reward + gamma * np.max(qtable[new_state, :]) - qtable[state, action])\n",
    "            total_rewards += reward\n",
    "            state = new_state\n",
    "            if done == True:\n",
    "                break\n",
    "\n",
    "        epsilon = min_epsilon + (max_epsilon - min_epsilon) * np.exp(-decay_rate * episode)\n",
    "        rewards.append(total_rewards)\n",
    "    return qtable, rewards"
   ]
  },
  {
   "cell_type": "code",
   "execution_count": 21,
   "metadata": {},
   "outputs": [],
   "source": [
    "qtable, rewards = train_qtable(env, total_episodes, max_steps, learning_rate, gamma,epsilon,,min_epsilon,max_epsilon,decay_rate)"
   ]
  },
  {
   "cell_type": "code",
   "execution_count": 22,
   "metadata": {},
   "outputs": [
    {
     "name": "stdout",
     "output_type": "stream",
     "text": [
      "Average Score:0.4696\n",
      "[[  2.36391978e-01   1.12828741e-01   1.00861971e-01   1.13336106e-01]\n",
      " [  2.52266646e-03   3.67714309e-03   8.33714525e-03   1.79903415e-01]\n",
      " [  8.83858923e-03   4.17504480e-02   8.94959711e-03   6.49521222e-02]\n",
      " [  4.67898952e-03   1.99650154e-03   1.64324616e-02   5.41143720e-02]\n",
      " [  1.85601333e-01   5.64284083e-02   8.34616356e-03   5.39768624e-02]\n",
      " [  0.00000000e+00   0.00000000e+00   0.00000000e+00   0.00000000e+00]\n",
      " [  8.38644341e-04   5.82033827e-08   8.10938206e-05   4.13291771e-08]\n",
      " [  0.00000000e+00   0.00000000e+00   0.00000000e+00   0.00000000e+00]\n",
      " [  1.15369612e-04   9.94152202e-02   2.37868092e-03   1.35522788e-01]\n",
      " [  9.59320049e-03   3.47667575e-02   9.18089661e-03   9.43853183e-03]\n",
      " [  7.30735483e-01   6.53660411e-03   4.76148897e-03   5.50702667e-04]\n",
      " [  0.00000000e+00   0.00000000e+00   0.00000000e+00   0.00000000e+00]\n",
      " [  0.00000000e+00   0.00000000e+00   0.00000000e+00   0.00000000e+00]\n",
      " [  4.43422753e-01   1.79509214e-02   1.46194780e-01   1.68867458e-01]\n",
      " [  1.93340620e-01   5.36940525e-01   2.04085135e-01   1.18615129e-01]\n",
      " [  0.00000000e+00   0.00000000e+00   0.00000000e+00   0.00000000e+00]]\n"
     ]
    }
   ],
   "source": [
    "print (\"Average Score:\" +  str(sum(rewards)/total_episodes))\n",
    "print(qtable)"
   ]
  },
  {
   "cell_type": "markdown",
   "metadata": {},
   "source": [
    "### Testing"
   ]
  },
  {
   "cell_type": "code",
   "execution_count": 23,
   "metadata": {},
   "outputs": [
    {
     "name": "stdout",
     "output_type": "stream",
     "text": [
      "-------------------------\n",
      "EPISODE  0\n",
      "  (Left)\n",
      "SFFF\n",
      "FHFH\n",
      "FFFH\n",
      "\u001b[41mH\u001b[0mFFG\n",
      "Number of steps 10\n",
      "-------------------------\n",
      "EPISODE  1\n",
      "  (Left)\n",
      "SFFF\n",
      "FHFH\n",
      "FFFH\n",
      "\u001b[41mH\u001b[0mFFG\n",
      "Number of steps 22\n",
      "-------------------------\n",
      "EPISODE  2\n",
      "  (Left)\n",
      "SFFF\n",
      "FHFH\n",
      "FFFH\n",
      "\u001b[41mH\u001b[0mFFG\n",
      "Number of steps 32\n",
      "-------------------------\n",
      "EPISODE  3\n",
      "  (Left)\n",
      "SFFF\n",
      "FHFH\n",
      "FFFH\n",
      "\u001b[41mH\u001b[0mFFG\n",
      "Number of steps 61\n",
      "-------------------------\n",
      "EPISODE  4\n",
      "  (Left)\n",
      "SFFF\n",
      "FHFH\n",
      "FFFH\n",
      "\u001b[41mH\u001b[0mFFG\n",
      "Number of steps 13\n"
     ]
    }
   ],
   "source": [
    "env.reset()\n",
    "\n",
    "for episode in range(5):\n",
    "    state = env.reset()\n",
    "    step = 0\n",
    "    done = False\n",
    "    print(\"-------------------------\")\n",
    "    print(\"EPISODE \", episode)\n",
    "\n",
    "    for step in range(max_steps):\n",
    "        action = np.argmax(qtable[state,:])\n",
    "        new_state, reward, done, info = env.step(action)\n",
    "        if done:\n",
    "            env.render()\n",
    "            print(\"Number of steps\", step)\n",
    "            break\n",
    "        state = new_state\n",
    "env.close()"
   ]
  },
  {
   "cell_type": "code",
   "execution_count": null,
   "metadata": {},
   "outputs": [],
   "source": []
  }
 ],
 "metadata": {
  "kernelspec": {
   "display_name": "Python 3",
   "language": "python",
   "name": "python3"
  },
  "language_info": {
   "codemirror_mode": {
    "name": "ipython",
    "version": 3
   },
   "file_extension": ".py",
   "mimetype": "text/x-python",
   "name": "python",
   "nbconvert_exporter": "python",
   "pygments_lexer": "ipython3",
   "version": "3.6.7"
  }
 },
 "nbformat": 4,
 "nbformat_minor": 1
}
