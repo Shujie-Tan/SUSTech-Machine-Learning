{
 "cells": [
  {
   "cell_type": "markdown",
   "metadata": {
    "collapsed": true
   },
   "source": [
    "#\tSVM Pre-Lab"
   ]
  },
  {
   "cell_type": "code",
   "execution_count": 1,
   "metadata": {},
   "outputs": [
    {
     "name": "stdout",
     "output_type": "stream",
     "text": [
      "Calculating the descriptors for the positive samples and saving them\n"
     ]
    },
    {
     "name": "stderr",
     "output_type": "stream",
     "text": [
      "/home/joshua/PycharmProjects/svm/venv/lib/python3.6/site-packages/skimage/io/_io.py:49: UserWarning: `as_grey` has been deprecated in favor of `as_gray`\n",
      "  warn('`as_grey` has been deprecated in favor of `as_gray`')\n",
      "/home/joshua/PycharmProjects/svm/venv/lib/python3.6/site-packages/skimage/feature/_hog.py:150: skimage_deprecation: Default value of `block_norm`==`L1` is deprecated and will be changed to `L2-Hys` in v0.15. To supress this message specify explicitly the normalization method.\n",
      "  skimage_deprecation)\n"
     ]
    },
    {
     "name": "stdout",
     "output_type": "stream",
     "text": [
      "Positive features saved in ../data/features/pos\n",
      "Calculating the descriptors for the negative samples and saving them\n",
      "Negative features saved in ../data/features/neg\n",
      "Completed calculating features from training images\n"
     ]
    }
   ],
   "source": [
    "run extract_features.py -p ./CarData/TrainImages/pos/ -n ./CarData/TrainImages/neg/"
   ]
  },
  {
   "cell_type": "code",
   "execution_count": 2,
   "metadata": {},
   "outputs": [
    {
     "name": "stdout",
     "output_type": "stream",
     "text": [
      "Training a Linear SVM Classifier\n",
      "Classifier saved to ../data/models/svm.model\n"
     ]
    }
   ],
   "source": [
    "run train_classifier.py"
   ]
  },
  {
   "cell_type": "code",
   "execution_count": 3,
   "metadata": {},
   "outputs": [
    {
     "name": "stdout",
     "output_type": "stream",
     "text": [
      "Detection:: Location -> (10, 50)\n",
      "Scale ->  0 | Confidence Score [0.28959144] \n",
      "\n",
      "Detection:: Location -> (20, 50)\n",
      "Scale ->  0 | Confidence Score [1.00972031] \n",
      "\n",
      "Detection:: Location -> (30, 50)\n",
      "Scale ->  0 | Confidence Score [1.04034244] \n",
      "\n",
      "Detection:: Location -> (40, 50)\n",
      "Scale ->  0 | Confidence Score [0.28833249] \n",
      "\n",
      "Detection:: Location -> (50, 50)\n",
      "Scale ->  0 | Confidence Score [0.12942187] \n",
      "\n",
      "Detection:: Location -> (80, 50)\n",
      "Scale ->  0 | Confidence Score [0.20225016] \n",
      "\n",
      "Detection:: Location -> (100, 50)\n",
      "Scale ->  0 | Confidence Score [0.00808938] \n",
      "\n",
      "Detection:: Location -> (110, 50)\n",
      "Scale ->  0 | Confidence Score [0.02137428] \n",
      "\n"
     ]
    },
    {
     "name": "stderr",
     "output_type": "stream",
     "text": [
      "/home/joshua/PycharmProjects/svm/venv/lib/python3.6/site-packages/skimage/transform/_warps.py:24: UserWarning: The default multichannel argument (None) is deprecated.  Please specify either True or False explicitly.  multichannel will default to False starting with release 0.16.\n",
      "  warn('The default multichannel argument (None) is deprecated.  Please '\n"
     ]
    },
    {
     "name": "stdout",
     "output_type": "stream",
     "text": [
      "Detection:: Location -> (0, 30)\n",
      "Scale ->  1 | Confidence Score [0.41610335] \n",
      "\n",
      "Detection:: Location -> (10, 30)\n",
      "Scale ->  1 | Confidence Score [1.12212388] \n",
      "\n",
      "Detection:: Location -> (20, 30)\n",
      "Scale ->  1 | Confidence Score [0.39179985] \n",
      "\n",
      "Detection:: Location -> (0, 20)\n",
      "Scale ->  2 | Confidence Score [0.86205038] \n",
      "\n",
      "Detection:: Location -> (10, 20)\n",
      "Scale ->  2 | Confidence Score [0.45124169] \n",
      "\n",
      "Detection:: Location -> (0, 10)\n",
      "Scale ->  3 | Confidence Score [0.06729025] \n",
      "\n"
     ]
    }
   ],
   "source": [
    "run test_classifier.py -i ./CarData/TestImages/test-0.pgm -v"
   ]
  }
 ],
 "metadata": {
  "kernelspec": {
   "display_name": "Python 3",
   "language": "python",
   "name": "python3"
  },
  "language_info": {
   "codemirror_mode": {
    "name": "ipython",
    "version": 3
   },
   "file_extension": ".py",
   "mimetype": "text/x-python",
   "name": "python",
   "nbconvert_exporter": "python",
   "pygments_lexer": "ipython3",
   "version": "3.6.5"
  }
 },
 "nbformat": 4,
 "nbformat_minor": 1
}
