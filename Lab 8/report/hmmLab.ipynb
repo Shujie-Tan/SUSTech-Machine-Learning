{
 "cells": [
  {
   "cell_type": "markdown",
   "metadata": {
    "collapsed": true
   },
   "source": [
    "# \t\tLab HMM Report\n",
    "谭树杰  11849060"
   ]
  },
  {
   "cell_type": "code",
   "execution_count": 23,
   "metadata": {},
   "outputs": [],
   "source": [
    "import numpy as np"
   ]
  },
  {
   "cell_type": "code",
   "execution_count": 24,
   "metadata": {},
   "outputs": [],
   "source": [
    "class HMM(object):\n",
    "    # Implements discrete 1-st order Hidden Markov Model\n",
    "\n",
    "    def __init__(self, tolerance=1e-6, max_iterations=10000, scaling=True):\n",
    "        self.tolerance = tolerance\n",
    "        self.max_iter = max_iterations\n",
    "        self.scaling = scaling\n",
    "\n",
    "    def HMMfwd(self, a, b, o, pi):\n",
    "        # Implements HMM Forward algorithm\n",
    "\n",
    "        N = np.shape(b)[0]  \n",
    "        T = np.shape(o)[0]      # o = [o1, o2, o3,...,oT]\n",
    "        c = np.ones((T))\n",
    "        alpha = np.zeros((N, T))\n",
    "        # initialise first column with observation values\n",
    "        alpha[:, 0] = pi * b[:, o[0]]   # pi = [pi_1, pi_2,...,pi_T]\n",
    "\n",
    "        for t in range(1, T):\n",
    "            for i in range(N):\n",
    "                alpha[i, t] = b[i, o[t]] * np.sum(alpha[:, t - 1] * a[:, i])\n",
    "\n",
    "        return alpha, c\n",
    "\n",
    "    def HMMbwd(self, a, b, o):  # delete c\n",
    "        # Implements HMM Backward algorithm\n",
    "\n",
    "        N = np.shape(b)[0]\n",
    "        T = np.shape(o)[0]\n",
    "\n",
    "        beta = np.zeros((N, T))\n",
    "        # initialise last row with 1\n",
    "        beta[:, T - 1] = 1\n",
    "\n",
    "        for t in range(T - 2, -1, -1):\n",
    "            for i in range(N):\n",
    "                beta[i, t] = np.sum(b[:, o[t + 1]] * beta[:, t + 1] * a[i, :])\n",
    "            # scale beta by the same value as a\n",
    "            # beta[:, t] = beta[:, t] * c[t]\n",
    "\n",
    "        return beta\n",
    "\n",
    "    def HMMViterbi(self, a, b, o, pi):\n",
    "        # Implements HMM Viterbi algorithm\n",
    "\n",
    "        N = np.shape(b)[0]\n",
    "        T = np.shape(o)[0]\n",
    "\n",
    "        path = np.zeros(T)\n",
    "        delta = np.zeros((N, T))\n",
    "        phi = np.zeros((N, T))\n",
    "\n",
    "        # initialise first column of delta and phi\n",
    "        delta[:, 0] = pi * b[:, o[0]]\n",
    "        phi[:, 0] = 0\n",
    "\n",
    "        for t in range(1, T):\n",
    "            for i in range(N):\n",
    "                delta[i, t] = np.max(delta[:, t - 1] * a[:, i]) * b[i, o[t]]\n",
    "                phi[i, t] = np.argmax(delta[:, t - 1] * a[:, i])\n",
    "\n",
    "        path[T - 1] = np.argmax(delta[:, T - 1])\n",
    "        for t in range(T - 2, -1, -1):\n",
    "            path[t] = phi[int(path[t + 1]), t + 1]\n",
    "\n",
    "        return path, delta, phi\n",
    "\n",
    "    def HMMBaumWelch(self, o, N, dirichlet=False, verbose=False, rand_seed=1):\n",
    "        # Implements HMM Baum-Welch algorithm\n",
    "\n",
    "        T = np.shape(o)[0]\n",
    "        M = int(max(o)) + 1  # now all hist time-series will contain all observation vals, but we have to provide for all\n",
    "\n",
    "        digamma = np.zeros((N, N, T))\n",
    "\n",
    "        # Initialise A, B and pi randomly, but so that they sum to one\n",
    "        np.random.seed(rand_seed)\n",
    "\n",
    "        # Initialisation can be done either using dirichlet distribution (all randoms sum to one)\n",
    "        # or using approximates uniforms from matrix sizes\n",
    "        if dirichlet:\n",
    "            pi = np.ndarray.flatten(np.random.dirichlet(np.ones(N), size=1))\n",
    "\n",
    "            a = np.random.dirichlet(np.ones(N), size=N)\n",
    "\n",
    "            b = np.random.dirichlet(np.ones(M), size=N)\n",
    "        else:\n",
    "\n",
    "            pi_randomizer = np.ndarray.flatten(np.random.dirichlet(np.ones(N), size=1)) / 100\n",
    "            pi = 1.0 / N * np.ones(N) - pi_randomizer\n",
    "\n",
    "            a_randomizer = np.random.dirichlet(np.ones(N), size=N) / 100\n",
    "            a = 1.0 / N * np.ones([N, N]) - a_randomizer\n",
    "\n",
    "            b_randomizer = np.random.dirichlet(np.ones(M), size=N) / 100\n",
    "            b = 1.0 / M * np.ones([N, M]) - b_randomizer\n",
    "\n",
    "        error = self.tolerance + 10\n",
    "        itter = 0\n",
    "        while (error > self.tolerance) & (itter < self.max_iter):\n",
    "\n",
    "            prev_a = a.copy()\n",
    "            prev_b = b.copy()\n",
    "\n",
    "            # Estimate model parameters\n",
    "            alpha, c = self.HMMfwd(a, b, o, pi)\n",
    "            beta = self.HMMbwd(a, b, o, c)\n",
    "\n",
    "            for t in range(T - 1):\n",
    "                for i in range(N):\n",
    "                    for j in range(N):\n",
    "                        digamma[i, j, t] = alpha[i, t] * a[i, j] * b[j, o[t + 1]] * beta[j, t + 1]\n",
    "                digamma[:, :, t] /= np.sum(digamma[:, :, t])\n",
    "\n",
    "            for i in range(N):\n",
    "                for j in range(N):\n",
    "                    digamma[i, j, T - 1] = alpha[i, T - 1] * a[i, j]\n",
    "            digamma[:, :, T - 1] /= np.sum(digamma[:, :, T - 1])\n",
    "\n",
    "            # Maximize parameter expectation\n",
    "            for i in range(N):\n",
    "                pi[i] = np.sum(digamma[i, :, 0])\n",
    "                for j in range(N):\n",
    "                    a[i, j] = np.sum(digamma[i, j, :T - 1]) / np.sum(digamma[i, :, :T - 1])\n",
    "\n",
    "                for k in range(M):\n",
    "                    filter_vals = (o == k).nonzero()\n",
    "                    b[i, k] = np.sum(digamma[i, :, filter_vals]) / np.sum(digamma[i, :, :])\n",
    "\n",
    "            error = (np.abs(a - prev_a)).max() + (np.abs(b - prev_b)).max()\n",
    "            itter += 1\n",
    "\n",
    "            if verbose:\n",
    "                print(\"Iteration: \", itter, \" error: \", error, \"P(O|lambda): \", np.sum(alpha[:, T - 1]))\n",
    "\n",
    "        return a, b, pi, alpha"
   ]
  },
  {
   "cell_type": "markdown",
   "metadata": {},
   "source": [
    "# 1.\tAccording to the following initial models (Tab-A1, B1 and C1), please use the HMM algorithm (Viterbi) to decode the order of the coin flipping (hidden state) for Seq, and give/compare the predictions under different priori distributions (Tab-A1).\n"
   ]
  },
  {
   "cell_type": "code",
   "execution_count": 26,
   "metadata": {},
   "outputs": [
    {
     "name": "stdout",
     "output_type": "stream",
     "text": [
      "[0. 0. 0. 0. 0. 0. 0. 0. 0. 0. 0. 0. 0. 0. 0.]\n"
     ]
    }
   ],
   "source": [
    "# case 1\n",
    "hmm = HMM()\n",
    "# (a, b, pi_est, alpha_est) = hmm.HMMBaumWelch(hist_O, 2, False, True)\n",
    "# (path, delta, phi) = hmm.HMMViterbi(a, b, hist_O, pi_est)\n",
    "\n",
    "pi = np.array([0.6, 0.2, 0.2])\n",
    "a = np.array([[0.6, 0.2, 0.2], [0.3, 0.5, 0.2], [0.5, 0.2, 0.3]])\n",
    "b = np.array([[0.7, 0.3], [0.4, 0.6],[0.5,0.5]])\n",
    "o = np.array([1, 1, 0, 1, 0, 1,  1, 0, 0, 0, 1, 1, 0, 1, 0])    # 1 for head, 0 for tail\n",
    "(path, delta, phi) = hmm.HMMViterbi(a, b, o, pi)\n",
    "print(path)\n"
   ]
  },
  {
   "cell_type": "code",
   "execution_count": 27,
   "metadata": {},
   "outputs": [
    {
     "name": "stdout",
     "output_type": "stream",
     "text": [
      "[1. 1. 1. 1. 1. 1. 1. 0. 0. 0. 0. 0. 0. 0. 0.]\n"
     ]
    }
   ],
   "source": [
    "# case 2\n",
    "pi = np.array([0.3, 0.5, 0.2])\n",
    "a = np.array([[0.6, 0.2, 0.2], [0.3, 0.5, 0.2], [0.5, 0.2, 0.3]])\n",
    "b = np.array([[0.7, 0.3], [0.4, 0.6],[0.5,0.5]])\n",
    "o = np.array([1, 1, 0, 1, 0, 1,  1, 0, 0, 0, 1, 1, 0, 1, 0])    # 1 for head, 0 for tail\n",
    "(path, delta, phi) = hmm.HMMViterbi(a, b, o, pi)\n",
    "print(path)"
   ]
  },
  {
   "cell_type": "code",
   "execution_count": 28,
   "metadata": {},
   "outputs": [
    {
     "name": "stdout",
     "output_type": "stream",
     "text": [
      "[0. 0. 0. 0. 0. 0. 0. 0. 0. 0. 0. 0. 0. 0. 0.]\n"
     ]
    }
   ],
   "source": [
    "# case 3\n",
    "pi = np.array([0.5, 0.2, 0.3])\n",
    "a = np.array([[0.6, 0.2, 0.2], [0.3, 0.5, 0.2], [0.5, 0.2, 0.3]])\n",
    "b = np.array([[0.7, 0.3], [0.4, 0.6],[0.5,0.5]])\n",
    "o = np.array([1, 1, 0, 1, 0, 1,  1, 0, 0, 0, 1, 1, 0, 1, 0])    # 1 for head, 0 for tail\n",
    "(path, delta, phi) = hmm.HMMViterbi(a, b, o, pi)\n",
    "print(path)"
   ]
  },
  {
   "cell_type": "markdown",
   "metadata": {},
   "source": [
    "# 2.\tGiven a set of randomly initial transition probabilities (Tab-A2), initial observation probabilities (Tab-B2) and the probabilities of picking each coin (Tab-C2), please give the new model parameters after 2 iterations for Seq;"
   ]
  },
  {
   "cell_type": "code",
   "execution_count": 31,
   "metadata": {},
   "outputs": [],
   "source": [
    "def HMMBaumWelch2(a, b, o, pi,  N):\n",
    "        # Implements HMM Baum-Welch algorithm\n",
    "\n",
    "        T = np.shape(o)[0]  \n",
    "        M = int(max(o)) + 1  # now all hist time-series will contain all observation vals, but we have to provide for all\n",
    "\n",
    "        digamma = np.zeros((N, N, T))  # N is number of hidden states\n",
    "\n",
    "        itter = 0\n",
    "        while itter < 2:\n",
    "            # Estimate model parameters\n",
    "            alpha, c = hmm.HMMfwd(a, b, o, pi)\n",
    "            beta = hmm.HMMbwd(a, b, o)  # ,c\n",
    "\n",
    "            for t in range(T - 1):\n",
    "                for i in range(N):\n",
    "                    for j in range(N):\n",
    "                        digamma[i, j, t] = alpha[i, t] * a[i, j] * b[j, o[t + 1]] * beta[j, t + 1]\n",
    "                digamma[:, :, t] /= np.sum(digamma[:, :, t])\n",
    "\n",
    "            for i in range(N):\n",
    "                for j in range(N):\n",
    "                    digamma[i, j, T - 1] = alpha[i, T - 1] * a[i, j]\n",
    "            digamma[:, :, T - 1] /= np.sum(digamma[:, :, T - 1])\n",
    "\n",
    "            # Maximize parameter expectation\n",
    "            for i in range(N):\n",
    "                pi[i] = np.sum(digamma[i, :, 0])\n",
    "                for j in range(N):\n",
    "                    a[i, j] = np.sum(digamma[i, j, :T - 1]) / np.sum(digamma[i, :, :T - 1])\n",
    "\n",
    "                for k in range(M):\n",
    "                    filter_vals = (o == k).nonzero()\n",
    "                    b[i, k] = np.sum(digamma[i, :, filter_vals]) / np.sum(digamma[i, :, :])\n",
    "\n",
    "            itter += 1\n",
    "\n",
    "        return a, b, pi\n"
   ]
  },
  {
   "cell_type": "code",
   "execution_count": 32,
   "metadata": {},
   "outputs": [],
   "source": [
    "a = np.array([[0.1,0.3,0.6], [0.5,0.3,0.2], [0.4, 0.3, 0.3]])\n",
    "b = np.array([[0.2,0.8],[0.4,0.6],[0.5,0.5]])\n",
    "pi = np.array([0.34, 0.33, 0.33])\n",
    "o = np.array([1, 1, 0, 1, 0, 1,  1, 0, 0, 0, 1, 1, 0, 1, 0]) \n",
    "a_, b_, pi_ = HMMBaumWelch2(a, b, o, pi, 3)"
   ]
  },
  {
   "cell_type": "code",
   "execution_count": 34,
   "metadata": {},
   "outputs": [
    {
     "name": "stdout",
     "output_type": "stream",
     "text": [
      "After 2 iterations, the new model parameters is\ntransition matrix a is \n[[0.08938234 0.27652377 0.63409388]\n [0.49157463 0.29418758 0.21423779]\n [0.39227178 0.29387318 0.31385505]]\nobservation matrix b is\n[[0.23133301 0.76866699]\n [0.50460543 0.49539457]\n [0.63750276 0.36249724]]\n"
     ]
    }
   ],
   "source": [
    "print(\"After 2 iterations, the new model parameters is\")\n",
    "print(\"transition matrix a is \")\n",
    "print(a)\n",
    "print(\"observation matrix b is\")\n",
    "print(b)"
   ]
  },
  {
   "cell_type": "code",
   "execution_count": null,
   "metadata": {},
   "outputs": [],
   "source": []
  }
 ],
 "metadata": {
  "kernelspec": {
   "display_name": "Python 2",
   "language": "python",
   "name": "python2"
  },
  "language_info": {
   "codemirror_mode": {
    "name": "ipython",
    "version": 2
   },
   "file_extension": ".py",
   "mimetype": "text/x-python",
   "name": "python",
   "nbconvert_exporter": "python",
   "pygments_lexer": "ipython2",
   "version": "2.7.6"
  }
 },
 "nbformat": 4,
 "nbformat_minor": 0
}
